{
 "cells": [
  {
   "cell_type": "code",
   "execution_count": 1,
   "id": "8658b329-38d8-415a-95a5-aed57706920d",
   "metadata": {
    "tags": []
   },
   "outputs": [],
   "source": [
    "import pandas as pd\n",
    "\n",
    "boston_url = 'https://cf-courses-data.s3.us.cloud-object-storage.appdomain.cloud/IBMDeveloperSkillsNetwork-ST0151EN-SkillsNetwork/labs/boston_housing.csv'\n",
    "boston_df=pd.read_csv(boston_url)"
   ]
  },
  {
   "cell_type": "markdown",
   "id": "00a43300-a0b0-4617-913e-242e9c01a765",
   "metadata": {},
   "source": [
    "### Q.1] Is there a significant difference in median value of houses bounded by the Charles river or not? (T-test for independent samples) \n",
    "### State your hypothesis.\n",
    "### Use α = 0.05\n",
    "### Perform the test Statistics.\n",
    "### State the conclusion from the test"
   ]
  },
  {
   "cell_type": "markdown",
   "id": "d0c5d430-2d33-483d-855e-e3502e85c65f",
   "metadata": {},
   "source": [
    "##### Hypotheses:\n",
    "\n",
    "##### Null Hypothesis: There is no significant difference in median value of houses bounded by the Charles river and those that are not bounded by the river.\n",
    "##### Alternative Hypothesis: There is a significant difference in median value of houses bounded by the Charles river and those that are not bounded by the river.\n"
   ]
  },
  {
   "cell_type": "code",
   "execution_count": 5,
   "id": "49a27059-a07f-41b2-ac3d-d21f2e620b2f",
   "metadata": {
    "tags": []
   },
   "outputs": [],
   "source": [
    "from scipy import stats\n",
    "\n",
    "# Create two datasets for houses bounded and not bounded by the Charles river\n",
    "bounded = boston_df[boston_df['CHAS'] == 1]\n",
    "not_bounded = boston_df[boston_df['CHAS'] == 0]\n",
    "# print(bounded,not_bounded) columns copyed all with chas = 1 i.e here ros are reduced and columns are remained same"
   ]
  },
  {
   "cell_type": "code",
   "execution_count": 6,
   "id": "c0d4347c-f12d-4d88-baa6-03bef2131469",
   "metadata": {
    "tags": []
   },
   "outputs": [],
   "source": [
    "# Calculate the sample sizes, means, and standard deviations for both groups\n",
    "n1 = len(bounded)\n",
    "n2 = len(not_bounded)\n",
    "mean1 = bounded['MEDV'].mean()\n",
    "mean2 = not_bounded['MEDV'].mean()\n",
    "std1 = bounded['MEDV'].std()\n",
    "std2 = not_bounded['MEDV'].std()"
   ]
  },
  {
   "cell_type": "code",
   "execution_count": 8,
   "id": "9410da63-3649-48cb-aff4-24cffe21ac44",
   "metadata": {
    "tags": []
   },
   "outputs": [
    {
     "name": "stdout",
     "output_type": "stream",
     "text": [
      "t-statistic: 4.00, p-value: 0.0001\n"
     ]
    }
   ],
   "source": [
    "# Calculate the t-statistic and p-value\n",
    "t_stat, p_value = stats.ttest_ind_from_stats(mean1, std1, n1, mean2, std2, n2)\n",
    "\n",
    "# Print the results\n",
    "print(\"t-statistic: {:.2f}, p-value: {:.4f}\".format(t_stat, p_value))"
   ]
  },
  {
   "cell_type": "code",
   "execution_count": 9,
   "id": "7bf847a4-88a0-4b61-b89e-f6cfa7fa12c7",
   "metadata": {
    "tags": []
   },
   "outputs": [
    {
     "name": "stdout",
     "output_type": "stream",
     "text": [
      "There is a significant difference in median value of houses bounded by the Charles river and those that are not bounded by the river.\n"
     ]
    }
   ],
   "source": [
    "# Interpret the results\n",
    "if p_value < 0.05:\n",
    "    print(\"There is a significant difference in median value of houses bounded by the Charles river and those that are not bounded by the river.\")\n",
    "else:\n",
    "    print(\"There is no significant difference in median value of houses bounded by the Charles river and those that are not bounded by the river.\")"
   ]
  },
  {
   "cell_type": "markdown",
   "id": "fefdd9f6-c983-436b-9983-8b2e0b128061",
   "metadata": {},
   "source": [
    "### Q.2] Is there a difference in Median values of houses (MEDV) for each proportion of owner occupied units built prior to 1940 (AGE)? (ANOVA)"
   ]
  },
  {
   "cell_type": "markdown",
   "id": "ebda7319-e821-4ea8-bf32-9435f7396683",
   "metadata": {},
   "source": [
    "#### Here are the hypotheses:\n",
    "\n",
    "#### Null Hypothesis: The median values of houses are the same for all proportions of owner occupied units built prior to 1940.\n",
    "#### Alternative Hypothesis: At least one median value is different from the others.\n"
   ]
  },
  {
   "cell_type": "code",
   "execution_count": 10,
   "id": "00b9b51d-637d-48f6-8cd2-115986395c2e",
   "metadata": {
    "tags": []
   },
   "outputs": [
    {
     "name": "stdout",
     "output_type": "stream",
     "text": [
      "F-statistic: 0.98, p-value: 0.5540\n",
      "There is no significant difference in median values of houses for each proportion of owner occupied units built prior to 1940.\n"
     ]
    }
   ],
   "source": [
    "# Group the data by AGE and extract the MEDV values\n",
    "groups = boston_df.groupby('AGE')['MEDV'].apply(list)\n",
    "\n",
    "# Perform the ANOVA test\n",
    "f_stat, p_value = stats.f_oneway(*groups)\n",
    "\n",
    "# Print the results\n",
    "print(\"F-statistic: {:.2f}, p-value: {:.4f}\".format(f_stat, p_value))\n",
    "\n",
    "# Interpret the results\n",
    "if p_value < 0.05:\n",
    "    print(\"There is a significant difference in median values of houses for each proportion of owner occupied units built prior to 1940.\")\n",
    "else:\n",
    "    print(\"There is no significant difference in median values of houses for each proportion of owner occupied units built prior to 1940.\")"
   ]
  },
  {
   "cell_type": "markdown",
   "id": "8fb1e5b1-43e5-4c6a-b266-fe84e1b191c5",
   "metadata": {
    "tags": []
   },
   "source": [
    "### Q.3] Can we conclude that there is no relationship between Nitric oxide concentrations and proportion of non-retail business acres per town? (Pearson Correlation)"
   ]
  },
  {
   "cell_type": "markdown",
   "id": "37511824-3ca1-499e-a593-4a6eb1dbb928",
   "metadata": {
    "tags": []
   },
   "source": [
    "##### Here are the hypotheses:\n",
    "\n",
    "##### Null Hypothesis: There is no linear relationship between Nitric oxide concentrations and proportion of non-retail business acres per town.\n",
    "##### Alternative Hypothesis: There is a linear relationship between Nitric oxide concentrations and proportion of non-retail business acres per town."
   ]
  },
  {
   "cell_type": "code",
   "execution_count": 13,
   "id": "347e844f-10e6-4dee-9b8d-bf204555a0ab",
   "metadata": {
    "tags": []
   },
   "outputs": [
    {
     "name": "stdout",
     "output_type": "stream",
     "text": [
      "Pearson correlation coefficient: 0.76, p-value: 0.0000\n",
      "There is a significant linear relationship between Nitric oxide concentrations and proportion of non-retail business acres per town.\n"
     ]
    }
   ],
   "source": [
    "# Select the NOX and INDUS columns\n",
    "nox = boston_df['NOX']\n",
    "indus = boston_df['INDUS']\n",
    "\n",
    "# Perform the Pearson correlation test\n",
    "corr, p_value = stats.pearsonr(nox, indus)\n",
    "\n",
    "# Print the results\n",
    "print(\"Pearson correlation coefficient: {:.2f}, p-value: {:.4f}\".format(corr, p_value))\n",
    "\n",
    "# Interpret the results\n",
    "if p_value < 0.05:\n",
    "    print(\"There is a significant linear relationship between Nitric oxide concentrations and proportion of non-retail business acres per town.\")\n",
    "else:\n",
    "    print(\"There is no significant linear relationship between Nitric oxide concentrations and proportion of non-retail business acres per town.\")"
   ]
  },
  {
   "cell_type": "markdown",
   "id": "297119d7-3be5-4594-a31b-579336a19144",
   "metadata": {},
   "source": [
    "### What is the impact of an additional weighted distance  to the five Boston employment centres on the median value of owner occupied homes? (Regression analysis)"
   ]
  },
  {
   "cell_type": "markdown",
   "id": "e6e987c7-5e88-4fa1-b396-0c51e7c16248",
   "metadata": {
    "tags": []
   },
   "source": [
    "#### Here are the hypotheses:\n",
    "\n",
    "#### Null Hypothesis: There is no significant linear relationship between DIS and MEDV.\n",
    "#### Alternative Hypothesis: There is a significant linear relationship between DIS and MEDV."
   ]
  },
  {
   "cell_type": "code",
   "execution_count": 16,
   "id": "b3dc93c0-9634-4388-b876-5d12ccf89c84",
   "metadata": {
    "tags": []
   },
   "outputs": [],
   "source": [
    "from sklearn.model_selection import train_test_split\n",
    "from sklearn.linear_model import LinearRegression\n",
    "from sklearn.metrics import mean_squared_error, r2_score"
   ]
  },
  {
   "cell_type": "code",
   "execution_count": 17,
   "id": "02fb8f4a-c460-4e0e-a4e5-337ef1433cb9",
   "metadata": {
    "tags": []
   },
   "outputs": [
    {
     "name": "stdout",
     "output_type": "stream",
     "text": [
      "Mean squared error: 82.62\n",
      "R-squared value: -0.01\n",
      "Intercept: 17.91\n",
      "Coefficient for DIS: 1.25\n"
     ]
    }
   ],
   "source": [
    "# Select the DIS and MEDV columns\n",
    "X = boston_df[['DIS']]\n",
    "y = boston_df['MEDV']\n",
    "\n",
    "# Split the data into training and testing sets\n",
    "X_train, X_test, y_train, y_test = train_test_split(X, y, test_size=0.2, random_state=0)\n",
    "\n",
    "# Create a linear regression model using the training data\n",
    "lr_model = LinearRegression()\n",
    "lr_model.fit(X_train, y_train)\n",
    "\n",
    "# Predict the MEDV values for the testing data using the linear regression model\n",
    "y_pred = lr_model.predict(X_test)\n",
    "\n",
    "# Evaluate the performance of the model using mean squared error and R-squared\n",
    "mse = mean_squared_error(y_test, y_pred)\n",
    "r2 = r2_score(y_test, y_pred)\n",
    "print(\"Mean squared error: {:.2f}\".format(mse))\n",
    "print(\"R-squared value: {:.2f}\".format(r2))\n",
    "\n",
    "# Interpret the coefficients of the linear regression model\n",
    "print(\"Intercept: {:.2f}\".format(lr_model.intercept_))\n",
    "print(\"Coefficient for DIS: {:.2f}\".format(lr_model.coef_[0]))"
   ]
  },
  {
   "cell_type": "code",
   "execution_count": 18,
   "id": "d55dacb1-9871-4f43-a4bd-2a65dcd970ad",
   "metadata": {
    "tags": []
   },
   "outputs": [],
   "source": [
    "# If the coefficient for DIS is positive and statistically significant (i.e., the p-value is less than 0.05), \n",
    "# we can conclude that an increase in the weighted distance to the five Boston employment centres is associated\n",
    "# with an increase in the median value of owner-occupied homes. If the coefficient for DIS is negative and \n",
    "# statistically significant, we can conclude that an increase in the weighted distance to the five Boston"
   ]
  },
  {
   "cell_type": "code",
   "execution_count": null,
   "id": "0813ec3c-933a-49b1-8dea-acab704694cc",
   "metadata": {},
   "outputs": [],
   "source": []
  }
 ],
 "metadata": {
  "kernelspec": {
   "display_name": "Python 3 (ipykernel)",
   "language": "python",
   "name": "python3"
  },
  "language_info": {
   "codemirror_mode": {
    "name": "ipython",
    "version": 3
   },
   "file_extension": ".py",
   "mimetype": "text/x-python",
   "name": "python",
   "nbconvert_exporter": "python",
   "pygments_lexer": "ipython3",
   "version": "3.11.3"
  }
 },
 "nbformat": 4,
 "nbformat_minor": 5
}
